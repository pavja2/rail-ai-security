{
  "nbformat": 4,
  "nbformat_minor": 0,
  "metadata": {
    "colab": {
      "name": "Rail Adversarial Example - Gradient Deception",
      "version": "0.3.2",
      "views": {},
      "default_view": {},
      "provenance": []
    },
    "kernelspec": {
      "name": "python3",
      "display_name": "Python 3"
    },
    "accelerator": "GPU"
  },
  "cells": [
    {
      "metadata": {
        "id": "C8tMVB4DsXc_",
        "colab_type": "text"
      },
      "cell_type": "markdown",
      "source": [
        "##Install Dependencies"
      ]
    },
    {
      "metadata": {
        "id": "bk0dIUissEYE",
        "colab_type": "code",
        "colab": {
          "autoexec": {
            "startup": false,
            "wait_interval": 0
          }
        }
      },
      "cell_type": "code",
      "source": [
        "!pip install foolbox\n",
        "!pip install requests\n",
        "!pip install keras\n",
        "!pip install randomstate"
      ],
      "execution_count": 0,
      "outputs": []
    },
    {
      "metadata": {
        "id": "GVsas7Lys0r-",
        "colab_type": "text"
      },
      "cell_type": "markdown",
      "source": [
        "##Load a Model to Attack"
      ]
    },
    {
      "metadata": {
        "id": "IEFILvBUs34T",
        "colab_type": "code",
        "colab": {
          "autoexec": {
            "startup": false,
            "wait_interval": 0
          }
        }
      },
      "cell_type": "code",
      "source": [
        "import foolbox\n",
        "import keras\n",
        "import numpy as np\n",
        "from keras.applications.resnet50 import ResNet50\n",
        "\n",
        "keras.backend.set_learning_phase(0)\n",
        "kmodel = ResNet50(weights='imagenet')\n",
        "preprocessing = (np.array([104, 116, 123]), 1) # this is some image manipulation stuff\n",
        "fmodel = foolbox.models.KerasModel(kmodel, bounds=(0, 255), preprocessing=preprocessing)\n"
      ],
      "execution_count": 0,
      "outputs": []
    },
    {
      "metadata": {
        "id": "FG2LrHeauNgW",
        "colab_type": "text"
      },
      "cell_type": "markdown",
      "source": [
        "## Fetch Image to Target"
      ]
    },
    {
      "metadata": {
        "id": "RA1oNL3TuMT1",
        "colab_type": "code",
        "colab": {
          "autoexec": {
            "startup": false,
            "wait_interval": 0
          }
        }
      },
      "cell_type": "code",
      "source": [
        "import requests\n",
        "from PIL import Image\n",
        "from io import BytesIO\n",
        "\n",
        "#image_url = \"https://github.com/bethgelab/foolbox/blob/master/foolbox/example.png?raw=true\"\n",
        "#r = requests.get(image_url)\n",
        "#i = Image.open(BytesIO(r.content))\n",
        "\n",
        "#target_image = np.asarray(i)\n",
        "\n",
        "# get source image and label (kitten image example)\n",
        "target_image, label = foolbox.utils.imagenet_example()\n",
        "\n"
      ],
      "execution_count": 0,
      "outputs": []
    },
    {
      "metadata": {
        "id": "wifaz5Ikydon",
        "colab_type": "text"
      },
      "cell_type": "markdown",
      "source": [
        "## Check Target Image Classification"
      ]
    },
    {
      "metadata": {
        "id": "7Q5xQM25yhnx",
        "colab_type": "code",
        "colab": {
          "autoexec": {
            "startup": false,
            "wait_interval": 0
          }
        }
      },
      "cell_type": "code",
      "source": [
        "%matplotlib inline\n",
        "import matplotlib.pyplot as plt\n",
        "from keras.applications.resnet50 import preprocess_input, decode_predictions\n",
        "\n",
        "# more image processing nonsense\n",
        "target_rgb = target_image[np.newaxis, :, :, ::-1]\n",
        "target_rgb = target_rgb.astype(float)\n",
        "target_predictions = kmodel.predict(preprocess_input(target_rgb.copy()))\n",
        "target_results = decode_predictions(target_predictions, top=10)\n",
        "\n",
        "# make note of the label for our attack\n",
        "label = target_results[0][0][1]\n",
        "\n",
        "plt.figure()\n",
        "plt.subplot(1, 3, 1)\n",
        "plt.title('Target')\n",
        "plt.text(0, 255, target_results[0][0][1])\n",
        "plt.imshow(target_image /255)\n",
        "plt.axis('off')"
      ],
      "execution_count": 0,
      "outputs": []
    },
    {
      "metadata": {
        "id": "0SfC4Yks2anF",
        "colab_type": "text"
      },
      "cell_type": "markdown",
      "source": [
        "## Observe Other Predictions (not required)"
      ]
    },
    {
      "metadata": {
        "id": "MyxC56J02fTg",
        "colab_type": "code",
        "colab": {
          "autoexec": {
            "startup": false,
            "wait_interval": 0
          }
        }
      },
      "cell_type": "code",
      "source": [
        "print(\"Predictions:\")\n",
        "for i in target_results[0]:\n",
        "  print(i[1], \"- confidence:\", i[2], \"\\n\")\n",
        "  "
      ],
      "execution_count": 0,
      "outputs": []
    },
    {
      "metadata": {
        "id": "GYhSnhjp2xuM",
        "colab_type": "code",
        "colab": {
          "autoexec": {
            "startup": false,
            "wait_interval": 0
          }
        }
      },
      "cell_type": "code",
      "source": [
        ""
      ],
      "execution_count": 0,
      "outputs": []
    },
    {
      "metadata": {
        "id": "dgfTO97EySn8",
        "colab_type": "text"
      },
      "cell_type": "markdown",
      "source": [
        "## Apply the Attack to Target Image (and wait...)"
      ]
    },
    {
      "metadata": {
        "id": "F2treEIx23CC",
        "colab_type": "code",
        "colab": {
          "autoexec": {
            "startup": false,
            "wait_interval": 0
          }
        }
      },
      "cell_type": "code",
      "source": [
        "# pick an attack target\n",
        "# you can see a list of class models here: https://github.com/alexisbcook/ResNetCAM-keras/blob/master/imagenet1000_clsid_to_human.txt\n",
        "# 555 is fire truck, 22 is eagle\n",
        "\n",
        "criterion = foolbox.criteria.TargetClass(806)\n",
        "\n",
        "# foolbox comes with a bunch of attacks - this one just works very well for resnet\n",
        "attack = foolbox.attacks.LBFGSAttack(fmodel, criterion)\n",
        "\n",
        "# now we have our adversarial image\n",
        "adversarial_image = attack(target_image[:, :, ::-1], label)"
      ],
      "execution_count": 0,
      "outputs": []
    },
    {
      "metadata": {
        "id": "FL21pEcu3bX3",
        "colab_type": "text"
      },
      "cell_type": "markdown",
      "source": [
        "## Check our Results"
      ]
    },
    {
      "metadata": {
        "id": "fgFjtSpo3jhg",
        "colab_type": "code",
        "colab": {
          "autoexec": {
            "startup": false,
            "wait_interval": 0
          }
        }
      },
      "cell_type": "code",
      "source": [
        "%matplotlib inline\n",
        "# do some image processing\n",
        "adversarial_rgb = adversarial_image[np.newaxis, :, :, ::-1].astype(float)\n",
        "real_rgb = target_image[np.newaxis, :, :, ::-1].astype(float)\n",
        "\n",
        "# ask the model for predictions for both the real and attack images\n",
        "preds_real = kmodel.predict(preprocess_input(real_rgb.copy()))\n",
        "preds_adversarial = kmodel.predict(preprocess_input(adversarial_rgb.copy()))\n",
        "\n",
        "# get both best guesses\n",
        "real_prediction = decode_predictions(preds_real, top=1)[0][0][1]\n",
        "adversarial_prediction = decode_predictions(preds_adversarial, top=1)[0][0][1]\n",
        "\n",
        "\n",
        "# show it all pretty on the screen\n",
        "import matplotlib.pyplot as plt\n",
        "\n",
        "plt.figure()\n",
        "\n",
        "plt.subplot(1, 3, 1)\n",
        "plt.title('Original')\n",
        "plt.text(0,255, real_prediction)\n",
        "plt.imshow(target_image / 255)  # division by 255 to convert [0, 255] to [0, 1]\n",
        "plt.axis('off')\n",
        "\n",
        "plt.subplot(1, 3, 2)\n",
        "plt.title('Adversarial')\n",
        "plt.text(0, 255, adversarial_prediction)\n",
        "plt.imshow(adversarial_image[:, :, ::-1] / 255)  # ::-1 to convert BGR to RGB\n",
        "plt.axis('off')\n",
        "\n",
        "plt.subplot(1, 3, 3)\n",
        "plt.title('Difference')\n",
        "difference = adversarial_image[:, :, ::-1] - target_image\n",
        "plt.imshow(difference / abs(difference).max() * 0.2 + 0.5)\n",
        "plt.axis('off')\n",
        "\n",
        "plt.show()"
      ],
      "execution_count": 0,
      "outputs": []
    }
  ]
}