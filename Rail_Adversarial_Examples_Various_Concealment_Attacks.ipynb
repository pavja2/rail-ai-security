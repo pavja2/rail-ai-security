{
  "nbformat": 4,
  "nbformat_minor": 0,
  "metadata": {
    "colab": {
      "name": "Rail Adversarial Examples - Various Concealment Attacks",
      "version": "0.3.2",
      "views": {},
      "default_view": {},
      "provenance": [],
      "collapsed_sections": [
        "m1jLJjXRk6c0",
        "VdE6Njj_lwu2"
      ]
    },
    "kernelspec": {
      "name": "python3",
      "display_name": "Python 3"
    }
  },
  "cells": [
    {
      "metadata": {
        "id": "OUMP_4sY780c",
        "colab_type": "text"
      },
      "cell_type": "markdown",
      "source": [
        "##Install Dependencies"
      ]
    },
    {
      "metadata": {
        "id": "c9yCZmrU7fBU",
        "colab_type": "code",
        "colab": {
          "autoexec": {
            "startup": false,
            "wait_interval": 0
          }
        }
      },
      "cell_type": "code",
      "source": [
        "!pip install foolbox\n",
        "!pip install requests\n",
        "!pip install keras\n",
        "!pip install randomstate"
      ],
      "execution_count": 0,
      "outputs": []
    },
    {
      "metadata": {
        "id": "qYzgH4GN8EGA",
        "colab_type": "text"
      },
      "cell_type": "markdown",
      "source": [
        "##Load a Model to Attack"
      ]
    },
    {
      "metadata": {
        "id": "mNbnnCYt8IQU",
        "colab_type": "code",
        "colab": {
          "autoexec": {
            "startup": false,
            "wait_interval": 0
          }
        }
      },
      "cell_type": "code",
      "source": [
        "import foolbox\n",
        "import keras\n",
        "import numpy as np\n",
        "from keras.applications.resnet50 import ResNet50\n",
        "from keras.applications.vgg19 import VGG19\n",
        "\n",
        "keras.backend.set_learning_phase(0)\n",
        "kmodel = ResNet50(weights='imagenet')\n",
        "#kmodel = VGG19(weights='imagenet')\n",
        "preprocessing = (np.array([104, 116, 123]), 1) # this is some image manipulation stuff\n",
        "fmodel = foolbox.models.KerasModel(kmodel, bounds=(0, 255), preprocessing=preprocessing)\n"
      ],
      "execution_count": 0,
      "outputs": []
    },
    {
      "metadata": {
        "id": "T2pR70ld8UXl",
        "colab_type": "text"
      },
      "cell_type": "markdown",
      "source": [
        "##Fetch Image to Target"
      ]
    },
    {
      "metadata": {
        "id": "SsknauDw8WuV",
        "colab_type": "code",
        "colab": {
          "autoexec": {
            "startup": false,
            "wait_interval": 0
          }
        }
      },
      "cell_type": "code",
      "source": [
        "import requests\n",
        "from PIL import Image\n",
        "from io import BytesIO\n",
        "\n",
        "image_url = \"https://cdn.pixabay.com/photo/2016/05/31/21/47/trestle-bridge-1427937_960_720.jpg\"\n",
        "r = requests.get(image_url)\n",
        "i = Image.open(BytesIO(r.content))\n",
        "img = i.resize((224, 224))\n",
        "target_image = np.asarray(img)\n",
        "label = np.argmax(fmodel.predictions(target_image[:, :, ::-1]))\n",
        "print(label)\n",
        "\n",
        "# get source image and label (kitten image example)\n",
        "#target_image, label = foolbox.utils.imagenet_example()\n",
        "#print(np.argmax(fmodel.predictions(target_image)))"
      ],
      "execution_count": 0,
      "outputs": []
    },
    {
      "metadata": {
        "id": "pSOTM3Os8kGt",
        "colab_type": "text"
      },
      "cell_type": "markdown",
      "source": [
        "##Check Target Image Classification"
      ]
    },
    {
      "metadata": {
        "id": "pMP1xK6E8iD4",
        "colab_type": "code",
        "colab": {
          "autoexec": {
            "startup": false,
            "wait_interval": 0
          }
        }
      },
      "cell_type": "code",
      "source": [
        "%matplotlib inline\n",
        "import matplotlib.pyplot as plt\n",
        "from keras.applications.resnet50 import preprocess_input, decode_predictions\n",
        "\n",
        "# more image processing nonsense\n",
        "target_rgb = target_image[np.newaxis, :, :, ::-1]\n",
        "target_rgb = target_rgb.astype(float)\n",
        "target_predictions = kmodel.predict(preprocess_input(target_rgb.copy()))\n",
        "target_results = decode_predictions(target_predictions, top=10)\n",
        "\n",
        "# make note of the label for our attack\n",
        "#label = target_results[0][0][1]\n",
        "\n",
        "plt.figure()\n",
        "plt.subplot(1, 3, 1)\n",
        "plt.title('Target')\n",
        "plt.text(0, 255, target_results[0][0][1])\n",
        "plt.imshow(target_image /255)\n",
        "plt.axis('off')"
      ],
      "execution_count": 0,
      "outputs": []
    },
    {
      "metadata": {
        "id": "5JbOBhkqAaVe",
        "colab_type": "text"
      },
      "cell_type": "markdown",
      "source": [
        ""
      ]
    },
    {
      "metadata": {
        "id": "qoAr4Tfz8qOm",
        "colab_type": "text"
      },
      "cell_type": "markdown",
      "source": [
        "##Observe Other Predictions (not required)"
      ]
    },
    {
      "metadata": {
        "id": "Y02QgBl68uG3",
        "colab_type": "code",
        "colab": {
          "autoexec": {
            "startup": false,
            "wait_interval": 0
          }
        }
      },
      "cell_type": "code",
      "source": [
        "print(\"Predictions:\")\n",
        "for i in target_results[0]:\n",
        "  print(i[1], \"- confidence:\", i[2], \"\\n\")"
      ],
      "execution_count": 0,
      "outputs": []
    },
    {
      "metadata": {
        "id": "Z8SM9B-J8w2T",
        "colab_type": "text"
      },
      "cell_type": "markdown",
      "source": [
        "##Apply An Attack to Target Image"
      ]
    },
    {
      "metadata": {
        "id": "3K5UPJWm85Yv",
        "colab_type": "code",
        "colab": {
          "autoexec": {
            "startup": false,
            "wait_interval": 0
          }
        }
      },
      "cell_type": "code",
      "source": [
        "#FGSM = Fast Gradient Sign Attack\n",
        "gradient_attack = foolbox.attacks.FGSM(fmodel)\n",
        "\n",
        "gradient_adversarial_image = gradient_attack(target_image[:, :, ::-1], label)"
      ],
      "execution_count": 0,
      "outputs": []
    },
    {
      "metadata": {
        "id": "9kLW66D29EEN",
        "colab_type": "text"
      },
      "cell_type": "markdown",
      "source": [
        "##Check our Results"
      ]
    },
    {
      "metadata": {
        "id": "ldXP-nn1fFkX",
        "colab_type": "code",
        "colab": {
          "autoexec": {
            "startup": false,
            "wait_interval": 0
          }
        }
      },
      "cell_type": "code",
      "source": [
        "def check_results(target_image, adversarial_image):\n",
        "  # do some image processing\n",
        "  adversarial_rgb = adversarial_image[np.newaxis, :, :, ::-1].astype(float)\n",
        "  real_rgb = target_image[np.newaxis, :, :, ::-1].astype(float)\n",
        "\n",
        "  # ask the model for predictions for both the real and attack images\n",
        "  preds_real = kmodel.predict(preprocess_input(real_rgb.copy()))\n",
        "  preds_adversarial = kmodel.predict(preprocess_input(adversarial_rgb.copy()))\n",
        "  # get both best guesses\n",
        "  real_prediction = decode_predictions(preds_real, top=1)[0][0][1]\n",
        "  adversarial_prediction = decode_predictions(preds_adversarial, top=1)[0][0][1]\n",
        "\n",
        "\n",
        "  # show it all pretty on the screen\n",
        "  import matplotlib.pyplot as plt\n",
        "\n",
        "  plt.figure()\n",
        "\n",
        "  plt.subplot(1, 3, 1)\n",
        "  plt.title('Original')\n",
        "  plt.text(0,255, real_prediction)\n",
        "  plt.imshow(target_image / 255)  # division by 255 to convert [0, 255] to [0, 1]\n",
        "  plt.axis('off')\n",
        "\n",
        "  plt.subplot(1, 3, 2)\n",
        "  plt.title('Adversarial')\n",
        "  plt.text(0, 255, adversarial_prediction)\n",
        "  plt.imshow(adversarial_image[:, :, ::-1] / 255)  # ::-1 to convert BGR to RGB\n",
        "  plt.axis('off')\n",
        "\n",
        "  plt.subplot(1, 3, 3)\n",
        "  plt.title('Difference ')\n",
        "  difference = adversarial_image[:, :, ::-1] - target_image\n",
        "  plt.imshow(difference / abs(difference).max() * 0.2 + 0.5)\n",
        "  plt.axis('off')\n",
        "\n",
        "  return plt"
      ],
      "execution_count": 0,
      "outputs": []
    },
    {
      "metadata": {
        "id": "RIrw8Q78fu07",
        "colab_type": "code",
        "colab": {
          "autoexec": {
            "startup": false,
            "wait_interval": 0
          }
        }
      },
      "cell_type": "code",
      "source": [
        "%matplotlib inline\n",
        "plt = check_results(target_image, gradient_adversarial_image)\n",
        "plt.show()"
      ],
      "execution_count": 0,
      "outputs": []
    },
    {
      "metadata": {
        "id": "BDbSfO0dj4tb",
        "colab_type": "text"
      },
      "cell_type": "markdown",
      "source": [
        "##\"Better\" Gradient Attacks"
      ]
    },
    {
      "metadata": {
        "id": "BljX5EfNkDsA",
        "colab_type": "text"
      },
      "cell_type": "markdown",
      "source": [
        "###DeepFool"
      ]
    },
    {
      "metadata": {
        "id": "37wuPD0wkF6p",
        "colab_type": "code",
        "colab": {
          "autoexec": {
            "startup": false,
            "wait_interval": 0
          }
        }
      },
      "cell_type": "code",
      "source": [
        "gradient_attack = foolbox.attacks.DeepFoolAttack(fmodel)\n",
        "\n",
        "gradient_adversarial_image = gradient_attack(target_image[:, :, ::-1], label)"
      ],
      "execution_count": 0,
      "outputs": []
    },
    {
      "metadata": {
        "id": "JJbN0gO8kScO",
        "colab_type": "code",
        "colab": {
          "autoexec": {
            "startup": false,
            "wait_interval": 0
          }
        }
      },
      "cell_type": "code",
      "source": [
        "%matplotlib inline\n",
        "plt = check_results(target_image, gradient_adversarial_image)\n",
        "plt.show()"
      ],
      "execution_count": 0,
      "outputs": []
    },
    {
      "metadata": {
        "id": "9uGcnVc3khqE",
        "colab_type": "text"
      },
      "cell_type": "markdown",
      "source": [
        "###SaliencyMapAttack"
      ]
    },
    {
      "metadata": {
        "id": "NfLxzR1Skppk",
        "colab_type": "code",
        "colab": {
          "autoexec": {
            "startup": false,
            "wait_interval": 0
          }
        }
      },
      "cell_type": "code",
      "source": [
        "gradient_attack = foolbox.attacks.SaliencyMapAttack(fmodel)\n",
        "\n",
        "gradient_adversarial_image = gradient_attack(target_image[:, :, ::-1], label)"
      ],
      "execution_count": 0,
      "outputs": []
    },
    {
      "metadata": {
        "id": "1-LYoKf3kwW0",
        "colab_type": "code",
        "colab": {
          "autoexec": {
            "startup": false,
            "wait_interval": 0
          }
        }
      },
      "cell_type": "code",
      "source": [
        "%matplotlib inline\n",
        "plt = check_results(target_image, gradient_adversarial_image)\n",
        "plt.show()"
      ],
      "execution_count": 0,
      "outputs": []
    },
    {
      "metadata": {
        "id": "m1jLJjXRk6c0",
        "colab_type": "text"
      },
      "cell_type": "markdown",
      "source": [
        "##Score-Based Attack"
      ]
    },
    {
      "metadata": {
        "id": "xtOweat2lgoq",
        "colab_type": "text"
      },
      "cell_type": "markdown",
      "source": [
        "###Single Pixel Attack [SLOW] (see https://arxiv.org/abs/1710.08864)"
      ]
    },
    {
      "metadata": {
        "id": "1zhEyK4slEvJ",
        "colab_type": "code",
        "colab": {
          "autoexec": {
            "startup": false,
            "wait_interval": 0
          }
        }
      },
      "cell_type": "code",
      "source": [
        "score_attack = foolbox.attacks.SinglePixelAttack(fmodel)\n",
        "\n",
        "score_adversarial_image = score_attack(target_image[:, :, ::-1], label)"
      ],
      "execution_count": 0,
      "outputs": []
    },
    {
      "metadata": {
        "id": "YWIj6fdglMau",
        "colab_type": "code",
        "colab": {
          "autoexec": {
            "startup": false,
            "wait_interval": 0
          }
        }
      },
      "cell_type": "code",
      "source": [
        "%matplotlib inline\n",
        "plt = check_results(target_image, score_adversarial_image)\n",
        "plt.show()"
      ],
      "execution_count": 0,
      "outputs": []
    },
    {
      "metadata": {
        "id": "VdE6Njj_lwu2",
        "colab_type": "text"
      },
      "cell_type": "markdown",
      "source": [
        "##Decision-Based Attacks"
      ]
    },
    {
      "metadata": {
        "id": "sdINzqbql9TY",
        "colab_type": "text"
      },
      "cell_type": "markdown",
      "source": [
        "###Blur"
      ]
    },
    {
      "metadata": {
        "id": "JfyuIOPlmFg_",
        "colab_type": "code",
        "colab": {
          "autoexec": {
            "startup": false,
            "wait_interval": 0
          }
        }
      },
      "cell_type": "code",
      "source": [
        "decision_attack = foolbox.attacks.GaussianBlurAttack(fmodel)\n",
        "\n",
        "decision_adversarial_image = decision_attack(target_image[:, :, ::-1], label)"
      ],
      "execution_count": 0,
      "outputs": []
    },
    {
      "metadata": {
        "id": "Vt4htjaDmP8e",
        "colab_type": "code",
        "colab": {
          "autoexec": {
            "startup": false,
            "wait_interval": 0
          }
        }
      },
      "cell_type": "code",
      "source": [
        "%matplotlib inline\n",
        "plt = check_results(target_image, decision_adversarial_image)\n",
        "plt.show()"
      ],
      "execution_count": 0,
      "outputs": []
    },
    {
      "metadata": {
        "id": "43Y2wjpBm9xi",
        "colab_type": "text"
      },
      "cell_type": "markdown",
      "source": [
        "###Contrast"
      ]
    },
    {
      "metadata": {
        "id": "NF2WoQx-m77f",
        "colab_type": "code",
        "colab": {
          "autoexec": {
            "startup": false,
            "wait_interval": 0
          }
        }
      },
      "cell_type": "code",
      "source": [
        "decision_attack = foolbox.attacks.ContrastReductionAttack(fmodel)\n",
        "\n",
        "decision_adversarial_image = decision_attack(target_image[:, :, ::-1], label)"
      ],
      "execution_count": 0,
      "outputs": []
    },
    {
      "metadata": {
        "id": "mw_091j_nHPE",
        "colab_type": "code",
        "colab": {
          "autoexec": {
            "startup": false,
            "wait_interval": 0
          }
        }
      },
      "cell_type": "code",
      "source": [
        "%matplotlib inline\n",
        "plt = check_results(target_image, decision_adversarial_image)\n",
        "plt.show()"
      ],
      "execution_count": 0,
      "outputs": []
    },
    {
      "metadata": {
        "id": "OZLodtq7nhHq",
        "colab_type": "text"
      },
      "cell_type": "markdown",
      "source": [
        "##Targeted Attacks"
      ]
    },
    {
      "metadata": {
        "id": "VVrT-3lrnlaj",
        "colab_type": "text"
      },
      "cell_type": "markdown",
      "source": [
        "###Targeted Gradient Attack"
      ]
    },
    {
      "metadata": {
        "id": "YCS2LA42nkaW",
        "colab_type": "code",
        "colab": {
          "autoexec": {
            "startup": false,
            "wait_interval": 0
          }
        }
      },
      "cell_type": "code",
      "source": [
        "#22 is an eagle\n",
        "criterion = foolbox.criteria.TargetClass(22)\n",
        "targeted_attack = foolbox.attacks.LBFGSAttack(fmodel, criterion)\n",
        "targeted_adversarial_image = targeted_attack(target_image[:, :, ::-1], label)"
      ],
      "execution_count": 0,
      "outputs": []
    },
    {
      "metadata": {
        "id": "HlrIE3aPn-vL",
        "colab_type": "code",
        "colab": {
          "autoexec": {
            "startup": false,
            "wait_interval": 0
          }
        }
      },
      "cell_type": "code",
      "source": [
        "%matplotlib inline\n",
        "plt = check_results(target_image, gradient_adversarial_image)\n",
        "plt.show()"
      ],
      "execution_count": 0,
      "outputs": []
    },
    {
      "metadata": {
        "id": "nLxoaVJEogG3",
        "colab_type": "text"
      },
      "cell_type": "markdown",
      "source": [
        "###Targeted Gradient 2"
      ]
    },
    {
      "metadata": {
        "id": "36bjhcSZomKM",
        "colab_type": "code",
        "colab": {
          "autoexec": {
            "startup": false,
            "wait_interval": 0
          }
        }
      },
      "cell_type": "code",
      "source": [
        "#22 is an eagle\n",
        "criterion = foolbox.criteria.TargetClass(22)\n",
        "targeted_attack = foolbox.attacks.FGSM(fmodel, criterion)\n",
        "targeted_adversarial_image = targeted_attack(target_image[:, :, ::-1], label)\n",
        "\n"
      ],
      "execution_count": 0,
      "outputs": []
    },
    {
      "metadata": {
        "id": "ErH8M2ctoqVP",
        "colab_type": "code",
        "colab": {
          "autoexec": {
            "startup": false,
            "wait_interval": 0
          }
        }
      },
      "cell_type": "code",
      "source": [
        "%matplotlib inline\n",
        "plt = check_results(target_image, gradient_adversarial_image)\n",
        "plt.show()"
      ],
      "execution_count": 0,
      "outputs": []
    }
  ]
}